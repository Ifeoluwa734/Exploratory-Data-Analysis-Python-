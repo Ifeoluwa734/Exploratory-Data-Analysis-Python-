{
 "cells": [
  {
   "cell_type": "markdown",
   "id": "0ac701c1",
   "metadata": {},
   "source": [
    "## Sales Data of Company XYZ from June to August, 2021."
   ]
  },
  {
   "cell_type": "markdown",
   "id": "c394d01e",
   "metadata": {},
   "source": [
    "This analytical report seeks to answer the following:\n",
    "- The total sales for each payment method\n",
    "- The average unit price for each product line\n",
    "- The total and average purchase value of each client types\n",
    "- The total purchase value of each product line\n",
    "- The total sales of each warehouse"
   ]
  },
  {
   "cell_type": "markdown",
   "id": "5f385edd",
   "metadata": {},
   "source": [
    "### Importing Libraries needed for analysis and visualizations"
   ]
  },
  {
   "cell_type": "code",
   "execution_count": 2,
   "id": "54653000",
   "metadata": {},
   "outputs": [],
   "source": [
    "import pandas as pd\n",
    "import numpy as np\n",
    "import seaborn as sns\n",
    "import matplotlib.pyplot as plt\n",
    "from datetime import datetime\n",
    "import dateutil.parser\n",
    "import re\n",
    "\n",
    "#set jupyter to display up to 50 columns, so we can see evrything\n",
    "pd.set_option('display.max_columns', 50)\n",
    "pd.set_option('expand_frame_repr', True)\n",
    "\n",
    "sns.set_style('whitegrid')\n",
    "#show figures in notebook\n",
    "%matplotlib inline "
   ]
  },
  {
   "cell_type": "markdown",
   "id": "0993001d",
   "metadata": {},
   "source": [
    "#### Loading dataset to be used for analysis (sales_data.csv)"
   ]
  },
  {
   "cell_type": "code",
   "execution_count": 32,
   "id": "d9aeac40",
   "metadata": {},
   "outputs": [
    {
     "data": {
      "text/html": [
       "<div>\n",
       "<style scoped>\n",
       "    .dataframe tbody tr th:only-of-type {\n",
       "        vertical-align: middle;\n",
       "    }\n",
       "\n",
       "    .dataframe tbody tr th {\n",
       "        vertical-align: top;\n",
       "    }\n",
       "\n",
       "    .dataframe thead th {\n",
       "        text-align: right;\n",
       "    }\n",
       "</style>\n",
       "<table border=\"1\" class=\"dataframe\">\n",
       "  <thead>\n",
       "    <tr style=\"text-align: right;\">\n",
       "      <th></th>\n",
       "      <th>date</th>\n",
       "      <th>warehouse</th>\n",
       "      <th>client_type</th>\n",
       "      <th>product_line</th>\n",
       "      <th>quantity</th>\n",
       "      <th>unit_price</th>\n",
       "      <th>total</th>\n",
       "      <th>payment</th>\n",
       "    </tr>\n",
       "  </thead>\n",
       "  <tbody>\n",
       "    <tr>\n",
       "      <th>0</th>\n",
       "      <td>2021-06-01</td>\n",
       "      <td>Central</td>\n",
       "      <td>Retail</td>\n",
       "      <td>Miscellaneous</td>\n",
       "      <td>8</td>\n",
       "      <td>16.85</td>\n",
       "      <td>134.83</td>\n",
       "      <td>Credit card</td>\n",
       "    </tr>\n",
       "    <tr>\n",
       "      <th>1</th>\n",
       "      <td>2021-06-01</td>\n",
       "      <td>North</td>\n",
       "      <td>Retail</td>\n",
       "      <td>Breaking system</td>\n",
       "      <td>9</td>\n",
       "      <td>19.29</td>\n",
       "      <td>173.61</td>\n",
       "      <td>Cash</td>\n",
       "    </tr>\n",
       "    <tr>\n",
       "      <th>2</th>\n",
       "      <td>2021-06-01</td>\n",
       "      <td>North</td>\n",
       "      <td>Retail</td>\n",
       "      <td>Suspension &amp; traction</td>\n",
       "      <td>8</td>\n",
       "      <td>32.93</td>\n",
       "      <td>263.45</td>\n",
       "      <td>Credit card</td>\n",
       "    </tr>\n",
       "    <tr>\n",
       "      <th>3</th>\n",
       "      <td>2021-06-01</td>\n",
       "      <td>North</td>\n",
       "      <td>Wholesale</td>\n",
       "      <td>Frame &amp; body</td>\n",
       "      <td>16</td>\n",
       "      <td>37.84</td>\n",
       "      <td>605.44</td>\n",
       "      <td>Transfer</td>\n",
       "    </tr>\n",
       "    <tr>\n",
       "      <th>4</th>\n",
       "      <td>2021-06-01</td>\n",
       "      <td>Central</td>\n",
       "      <td>Retail</td>\n",
       "      <td>Engine</td>\n",
       "      <td>2</td>\n",
       "      <td>60.48</td>\n",
       "      <td>120.96</td>\n",
       "      <td>Credit card</td>\n",
       "    </tr>\n",
       "    <tr>\n",
       "      <th>5</th>\n",
       "      <td>2021-06-01</td>\n",
       "      <td>North</td>\n",
       "      <td>Wholesale</td>\n",
       "      <td>Suspension &amp; traction</td>\n",
       "      <td>40</td>\n",
       "      <td>37.37</td>\n",
       "      <td>1494.80</td>\n",
       "      <td>Transfer</td>\n",
       "    </tr>\n",
       "    <tr>\n",
       "      <th>6</th>\n",
       "      <td>2021-06-01</td>\n",
       "      <td>West</td>\n",
       "      <td>Retail</td>\n",
       "      <td>Electrical system</td>\n",
       "      <td>2</td>\n",
       "      <td>27.20</td>\n",
       "      <td>54.41</td>\n",
       "      <td>Credit card</td>\n",
       "    </tr>\n",
       "    <tr>\n",
       "      <th>7</th>\n",
       "      <td>2021-06-01</td>\n",
       "      <td>Central</td>\n",
       "      <td>Retail</td>\n",
       "      <td>Breaking system</td>\n",
       "      <td>10</td>\n",
       "      <td>22.44</td>\n",
       "      <td>224.38</td>\n",
       "      <td>Credit card</td>\n",
       "    </tr>\n",
       "    <tr>\n",
       "      <th>8</th>\n",
       "      <td>2021-06-01</td>\n",
       "      <td>West</td>\n",
       "      <td>Wholesale</td>\n",
       "      <td>Frame &amp; body</td>\n",
       "      <td>40</td>\n",
       "      <td>39.50</td>\n",
       "      <td>1579.87</td>\n",
       "      <td>Transfer</td>\n",
       "    </tr>\n",
       "    <tr>\n",
       "      <th>9</th>\n",
       "      <td>2021-06-01</td>\n",
       "      <td>North</td>\n",
       "      <td>Retail</td>\n",
       "      <td>Frame &amp; body</td>\n",
       "      <td>6</td>\n",
       "      <td>45.44</td>\n",
       "      <td>272.61</td>\n",
       "      <td>Credit card</td>\n",
       "    </tr>\n",
       "  </tbody>\n",
       "</table>\n",
       "</div>"
      ],
      "text/plain": [
       "        date warehouse client_type           product_line  quantity  \\\n",
       "0 2021-06-01   Central      Retail          Miscellaneous         8   \n",
       "1 2021-06-01     North      Retail        Breaking system         9   \n",
       "2 2021-06-01     North      Retail  Suspension & traction         8   \n",
       "3 2021-06-01     North   Wholesale           Frame & body        16   \n",
       "4 2021-06-01   Central      Retail                 Engine         2   \n",
       "5 2021-06-01     North   Wholesale  Suspension & traction        40   \n",
       "6 2021-06-01      West      Retail      Electrical system         2   \n",
       "7 2021-06-01   Central      Retail        Breaking system        10   \n",
       "8 2021-06-01      West   Wholesale           Frame & body        40   \n",
       "9 2021-06-01     North      Retail           Frame & body         6   \n",
       "\n",
       "   unit_price    total      payment  \n",
       "0       16.85   134.83  Credit card  \n",
       "1       19.29   173.61         Cash  \n",
       "2       32.93   263.45  Credit card  \n",
       "3       37.84   605.44     Transfer  \n",
       "4       60.48   120.96  Credit card  \n",
       "5       37.37  1494.80     Transfer  \n",
       "6       27.20    54.41  Credit card  \n",
       "7       22.44   224.38  Credit card  \n",
       "8       39.50  1579.87     Transfer  \n",
       "9       45.44   272.61  Credit card  "
      ]
     },
     "execution_count": 32,
     "metadata": {},
     "output_type": "execute_result"
    }
   ],
   "source": [
    "motor = pd.read_csv('sales_data.csv', parse_dates= ['date']) \n",
    "motor.head(10)"
   ]
  },
  {
   "cell_type": "markdown",
   "id": "b34daae4",
   "metadata": {},
   "source": [
    "### Checking the properties of the data"
   ]
  },
  {
   "cell_type": "code",
   "execution_count": 4,
   "id": "85d627c0",
   "metadata": {},
   "outputs": [
    {
     "name": "stdout",
     "output_type": "stream",
     "text": [
      "<class 'pandas.core.frame.DataFrame'>\n",
      "RangeIndex: 1000 entries, 0 to 999\n",
      "Data columns (total 8 columns):\n",
      " #   Column        Non-Null Count  Dtype         \n",
      "---  ------        --------------  -----         \n",
      " 0   date          1000 non-null   datetime64[ns]\n",
      " 1   warehouse     1000 non-null   object        \n",
      " 2   client_type   1000 non-null   object        \n",
      " 3   product_line  1000 non-null   object        \n",
      " 4   quantity      1000 non-null   int64         \n",
      " 5   unit_price    1000 non-null   float64       \n",
      " 6   total         1000 non-null   float64       \n",
      " 7   payment       1000 non-null   object        \n",
      "dtypes: datetime64[ns](1), float64(2), int64(1), object(4)\n",
      "memory usage: 62.6+ KB\n"
     ]
    }
   ],
   "source": [
    "motor.info()"
   ]
  },
  {
   "cell_type": "code",
   "execution_count": 5,
   "id": "d216f931",
   "metadata": {},
   "outputs": [
    {
     "data": {
      "text/plain": [
       "(1000, 8)"
      ]
     },
     "execution_count": 5,
     "metadata": {},
     "output_type": "execute_result"
    }
   ],
   "source": [
    "motor.shape"
   ]
  },
  {
   "cell_type": "code",
   "execution_count": 6,
   "id": "8a4c5844",
   "metadata": {},
   "outputs": [
    {
     "data": {
      "text/plain": [
       "date            0\n",
       "warehouse       0\n",
       "client_type     0\n",
       "product_line    0\n",
       "quantity        0\n",
       "unit_price      0\n",
       "total           0\n",
       "payment         0\n",
       "dtype: int64"
      ]
     },
     "execution_count": 6,
     "metadata": {},
     "output_type": "execute_result"
    }
   ],
   "source": [
    "#Checking or missing values\n",
    "motor.isnull().sum()"
   ]
  },
  {
   "cell_type": "code",
   "execution_count": 7,
   "id": "c2818167",
   "metadata": {},
   "outputs": [
    {
     "data": {
      "text/plain": [
       "0      False\n",
       "1      False\n",
       "2      False\n",
       "3      False\n",
       "4      False\n",
       "       ...  \n",
       "995    False\n",
       "996    False\n",
       "997    False\n",
       "998    False\n",
       "999    False\n",
       "Length: 1000, dtype: bool"
      ]
     },
     "execution_count": 7,
     "metadata": {},
     "output_type": "execute_result"
    }
   ],
   "source": [
    "#Checking for duplicates\n",
    "motor.duplicated()"
   ]
  },
  {
   "cell_type": "code",
   "execution_count": 8,
   "id": "c7be3b4a",
   "metadata": {},
   "outputs": [
    {
     "data": {
      "text/plain": [
       "0"
      ]
     },
     "execution_count": 8,
     "metadata": {},
     "output_type": "execute_result"
    }
   ],
   "source": [
    "#To coun the duplictes in the dataset\n",
    "motor.duplicated().sum()"
   ]
  },
  {
   "cell_type": "markdown",
   "id": "2b9f9638",
   "metadata": {},
   "source": [
    "#### Observations:\n",
    "- The dataset has 1000 rows/observations and 8 columns/features.\n",
    "- There are no missing values in the dataset.\n",
    "- There are also no duplicates.\n",
    "- This dataset is clean and ready for analysis."
   ]
  },
  {
   "cell_type": "markdown",
   "id": "6fafcf34",
   "metadata": {},
   "source": [
    "### Descriptive Statistics of dataset"
   ]
  },
  {
   "cell_type": "code",
   "execution_count": 9,
   "id": "5ca649af",
   "metadata": {},
   "outputs": [
    {
     "data": {
      "text/html": [
       "<div>\n",
       "<style scoped>\n",
       "    .dataframe tbody tr th:only-of-type {\n",
       "        vertical-align: middle;\n",
       "    }\n",
       "\n",
       "    .dataframe tbody tr th {\n",
       "        vertical-align: top;\n",
       "    }\n",
       "\n",
       "    .dataframe thead th {\n",
       "        text-align: right;\n",
       "    }\n",
       "</style>\n",
       "<table border=\"1\" class=\"dataframe\">\n",
       "  <thead>\n",
       "    <tr style=\"text-align: right;\">\n",
       "      <th></th>\n",
       "      <th>quantity</th>\n",
       "      <th>unit_price</th>\n",
       "      <th>total</th>\n",
       "    </tr>\n",
       "  </thead>\n",
       "  <tbody>\n",
       "    <tr>\n",
       "      <th>count</th>\n",
       "      <td>1000.000000</td>\n",
       "      <td>1000.000000</td>\n",
       "      <td>1000.000000</td>\n",
       "    </tr>\n",
       "    <tr>\n",
       "      <th>mean</th>\n",
       "      <td>9.395000</td>\n",
       "      <td>30.322040</td>\n",
       "      <td>289.113000</td>\n",
       "    </tr>\n",
       "    <tr>\n",
       "      <th>std</th>\n",
       "      <td>9.659207</td>\n",
       "      <td>12.256488</td>\n",
       "      <td>345.227596</td>\n",
       "    </tr>\n",
       "    <tr>\n",
       "      <th>min</th>\n",
       "      <td>1.000000</td>\n",
       "      <td>10.030000</td>\n",
       "      <td>10.350000</td>\n",
       "    </tr>\n",
       "    <tr>\n",
       "      <th>25%</th>\n",
       "      <td>4.000000</td>\n",
       "      <td>21.085000</td>\n",
       "      <td>93.687500</td>\n",
       "    </tr>\n",
       "    <tr>\n",
       "      <th>50%</th>\n",
       "      <td>6.500000</td>\n",
       "      <td>28.570000</td>\n",
       "      <td>178.360000</td>\n",
       "    </tr>\n",
       "    <tr>\n",
       "      <th>75%</th>\n",
       "      <td>10.000000</td>\n",
       "      <td>37.917500</td>\n",
       "      <td>321.690000</td>\n",
       "    </tr>\n",
       "    <tr>\n",
       "      <th>max</th>\n",
       "      <td>40.000000</td>\n",
       "      <td>66.620000</td>\n",
       "      <td>2546.330000</td>\n",
       "    </tr>\n",
       "  </tbody>\n",
       "</table>\n",
       "</div>"
      ],
      "text/plain": [
       "          quantity   unit_price        total\n",
       "count  1000.000000  1000.000000  1000.000000\n",
       "mean      9.395000    30.322040   289.113000\n",
       "std       9.659207    12.256488   345.227596\n",
       "min       1.000000    10.030000    10.350000\n",
       "25%       4.000000    21.085000    93.687500\n",
       "50%       6.500000    28.570000   178.360000\n",
       "75%      10.000000    37.917500   321.690000\n",
       "max      40.000000    66.620000  2546.330000"
      ]
     },
     "execution_count": 9,
     "metadata": {},
     "output_type": "execute_result"
    }
   ],
   "source": [
    "#Statistical summary of numrical columns: 'Quantity', 'UnitPrice' and 'Customer ID'\n",
    "motor.describe()"
   ]
  },
  {
   "cell_type": "markdown",
   "id": "04a91259",
   "metadata": {},
   "source": [
    "The following insights can be drawn from the table above:\n",
    "- The highest purchase made at once was 2,546.33 while the lowest was 10.35"
   ]
  },
  {
   "cell_type": "code",
   "execution_count": 10,
   "id": "f4daacf5",
   "metadata": {},
   "outputs": [
    {
     "data": {
      "text/html": [
       "<div>\n",
       "<style scoped>\n",
       "    .dataframe tbody tr th:only-of-type {\n",
       "        vertical-align: middle;\n",
       "    }\n",
       "\n",
       "    .dataframe tbody tr th {\n",
       "        vertical-align: top;\n",
       "    }\n",
       "\n",
       "    .dataframe thead th {\n",
       "        text-align: right;\n",
       "    }\n",
       "</style>\n",
       "<table border=\"1\" class=\"dataframe\">\n",
       "  <thead>\n",
       "    <tr style=\"text-align: right;\">\n",
       "      <th></th>\n",
       "      <th>warehouse</th>\n",
       "      <th>client_type</th>\n",
       "      <th>product_line</th>\n",
       "      <th>payment</th>\n",
       "    </tr>\n",
       "  </thead>\n",
       "  <tbody>\n",
       "    <tr>\n",
       "      <th>count</th>\n",
       "      <td>1000</td>\n",
       "      <td>1000</td>\n",
       "      <td>1000</td>\n",
       "      <td>1000</td>\n",
       "    </tr>\n",
       "    <tr>\n",
       "      <th>unique</th>\n",
       "      <td>3</td>\n",
       "      <td>2</td>\n",
       "      <td>6</td>\n",
       "      <td>3</td>\n",
       "    </tr>\n",
       "    <tr>\n",
       "      <th>top</th>\n",
       "      <td>Central</td>\n",
       "      <td>Retail</td>\n",
       "      <td>Breaking system</td>\n",
       "      <td>Credit card</td>\n",
       "    </tr>\n",
       "    <tr>\n",
       "      <th>freq</th>\n",
       "      <td>480</td>\n",
       "      <td>775</td>\n",
       "      <td>230</td>\n",
       "      <td>659</td>\n",
       "    </tr>\n",
       "  </tbody>\n",
       "</table>\n",
       "</div>"
      ],
      "text/plain": [
       "       warehouse client_type     product_line      payment\n",
       "count       1000        1000             1000         1000\n",
       "unique         3           2                6            3\n",
       "top      Central      Retail  Breaking system  Credit card\n",
       "freq         480         775              230          659"
      ]
     },
     "execution_count": 10,
     "metadata": {},
     "output_type": "execute_result"
    }
   ],
   "source": [
    "#Summary of the object or categorical columns by first creating a variable that holds such columns\n",
    "object_col = motor.dtypes[motor.dtypes=='object'].index\n",
    "motor[object_col].describe()"
   ]
  },
  {
   "cell_type": "markdown",
   "id": "6e470d25",
   "metadata": {},
   "source": [
    "The table above shows:\n",
    "- The number of unique values of each of the columns, for example we can tell that client_type has only 2 unique values\n",
    "- That the dataset has more records from the Central warehouse even though this does not mean that thi warehouse had more sales.\n",
    "- The most frequent client type was retail\n",
    "- The Break system product_line made the most sale (77.5% of total) "
   ]
  },
  {
   "cell_type": "code",
   "execution_count": 16,
   "id": "6f401b21",
   "metadata": {},
   "outputs": [
    {
     "data": {
      "text/plain": [
       "array(['Central', 'North', 'West'], dtype=object)"
      ]
     },
     "execution_count": 16,
     "metadata": {},
     "output_type": "execute_result"
    }
   ],
   "source": [
    "#Checking  the unqiue values of object or categorical columns\n",
    "motor.warehouse.unique()"
   ]
  },
  {
   "cell_type": "code",
   "execution_count": 17,
   "id": "f53aebd4",
   "metadata": {},
   "outputs": [
    {
     "data": {
      "text/plain": [
       "array(['Retail', 'Wholesale'], dtype=object)"
      ]
     },
     "execution_count": 17,
     "metadata": {},
     "output_type": "execute_result"
    }
   ],
   "source": [
    "motor.client_type.unique()"
   ]
  },
  {
   "cell_type": "code",
   "execution_count": 18,
   "id": "1ea4f293",
   "metadata": {},
   "outputs": [
    {
     "data": {
      "text/plain": [
       "array(['Miscellaneous', 'Breaking system', 'Suspension & traction',\n",
       "       'Frame & body', 'Engine', 'Electrical system'], dtype=object)"
      ]
     },
     "execution_count": 18,
     "metadata": {},
     "output_type": "execute_result"
    }
   ],
   "source": [
    "motor.product_line.unique()"
   ]
  },
  {
   "cell_type": "code",
   "execution_count": 19,
   "id": "028c6b61",
   "metadata": {},
   "outputs": [
    {
     "data": {
      "text/plain": [
       "array(['Credit card', 'Cash', 'Transfer'], dtype=object)"
      ]
     },
     "execution_count": 19,
     "metadata": {},
     "output_type": "execute_result"
    }
   ],
   "source": [
    "motor.payment.unique()"
   ]
  },
  {
   "cell_type": "markdown",
   "id": "b475ad8b",
   "metadata": {},
   "source": [
    "There are:\n",
    "- 3 warehouses\n",
    "- 2 client types\n",
    "- 6 poduct lines\n",
    "- 3 payent methods"
   ]
  },
  {
   "cell_type": "markdown",
   "id": "e0549ba6",
   "metadata": {},
   "source": [
    "### Question 1\n",
    "What are the total sales for each payment method?"
   ]
  },
  {
   "cell_type": "code",
   "execution_count": 38,
   "id": "4a40918f",
   "metadata": {
    "scrolled": true
   },
   "outputs": [
    {
     "data": {
      "text/html": [
       "<div>\n",
       "<style scoped>\n",
       "    .dataframe tbody tr th:only-of-type {\n",
       "        vertical-align: middle;\n",
       "    }\n",
       "\n",
       "    .dataframe tbody tr th {\n",
       "        vertical-align: top;\n",
       "    }\n",
       "\n",
       "    .dataframe thead th {\n",
       "        text-align: right;\n",
       "    }\n",
       "</style>\n",
       "<table border=\"1\" class=\"dataframe\">\n",
       "  <thead>\n",
       "    <tr style=\"text-align: right;\">\n",
       "      <th></th>\n",
       "      <th>payment</th>\n",
       "      <th>sum</th>\n",
       "    </tr>\n",
       "  </thead>\n",
       "  <tbody>\n",
       "    <tr>\n",
       "      <th>0</th>\n",
       "      <td>Cash</td>\n",
       "      <td>19199.10</td>\n",
       "    </tr>\n",
       "    <tr>\n",
       "      <th>1</th>\n",
       "      <td>Credit card</td>\n",
       "      <td>110271.57</td>\n",
       "    </tr>\n",
       "    <tr>\n",
       "      <th>2</th>\n",
       "      <td>Transfer</td>\n",
       "      <td>159642.33</td>\n",
       "    </tr>\n",
       "  </tbody>\n",
       "</table>\n",
       "</div>"
      ],
      "text/plain": [
       "       payment        sum\n",
       "0         Cash   19199.10\n",
       "1  Credit card  110271.57\n",
       "2     Transfer  159642.33"
      ]
     },
     "execution_count": 38,
     "metadata": {},
     "output_type": "execute_result"
    }
   ],
   "source": [
    "total_sales_payment= motor.groupby('payment').total.agg([sum]).reset_index()\n",
    "total_sales_payment"
   ]
  },
  {
   "cell_type": "code",
   "execution_count": 30,
   "id": "97b01db5",
   "metadata": {
    "scrolled": false
   },
   "outputs": [
    {
     "data": {
      "image/png": "[encoded data removed]",
      "text/plain": [
       "<Figure size 864x432 with 1 Axes>"
      ]
     },
     "metadata": {
      "needs_background": "light"
     },
     "output_type": "display_data"
    }
   ],
   "source": [
    "plt.figure(figsize=(12, 6))\n",
    "tp= sns.barplot(x='payment', y= 'sum', data= total_sales_payment)\n",
    "plt.title('Total Sales per Payment Method', fontweight= 'bold', fontsize= 18)\n",
    "plt.xlabel('Payment Method',  fontweight= 'bold', fontsize= 16)\n",
    "plt.ylabel('Total Sales',  fontweight= 'bold', fontsize= 16);\n",
    "for i in tp.containers:\n",
    "    tp.bar_label(i)"
   ]
  },
  {
   "cell_type": "markdown",
   "id": "0cf1e0ec",
   "metadata": {},
   "source": [
    "### Question 2\n",
    "What is the average unit price for each product line?"
   ]
  },
  {
   "cell_type": "code",
   "execution_count": 36,
   "id": "82d59e62",
   "metadata": {},
   "outputs": [
    {
     "data": {
      "text/html": [
       "<div>\n",
       "<style scoped>\n",
       "    .dataframe tbody tr th:only-of-type {\n",
       "        vertical-align: middle;\n",
       "    }\n",
       "\n",
       "    .dataframe tbody tr th {\n",
       "        vertical-align: top;\n",
       "    }\n",
       "\n",
       "    .dataframe thead th {\n",
       "        text-align: right;\n",
       "    }\n",
       "</style>\n",
       "<table border=\"1\" class=\"dataframe\">\n",
       "  <thead>\n",
       "    <tr style=\"text-align: right;\">\n",
       "      <th></th>\n",
       "      <th>product_line</th>\n",
       "      <th>unit_price</th>\n",
       "    </tr>\n",
       "  </thead>\n",
       "  <tbody>\n",
       "    <tr>\n",
       "      <th>0</th>\n",
       "      <td>Breaking system</td>\n",
       "      <td>17.740522</td>\n",
       "    </tr>\n",
       "    <tr>\n",
       "      <th>1</th>\n",
       "      <td>Electrical system</td>\n",
       "      <td>25.585130</td>\n",
       "    </tr>\n",
       "    <tr>\n",
       "      <th>2</th>\n",
       "      <td>Engine</td>\n",
       "      <td>60.091803</td>\n",
       "    </tr>\n",
       "    <tr>\n",
       "      <th>3</th>\n",
       "      <td>Frame &amp; body</td>\n",
       "      <td>42.832229</td>\n",
       "    </tr>\n",
       "    <tr>\n",
       "      <th>4</th>\n",
       "      <td>Miscellaneous</td>\n",
       "      <td>22.810738</td>\n",
       "    </tr>\n",
       "    <tr>\n",
       "      <th>5</th>\n",
       "      <td>Suspension &amp; traction</td>\n",
       "      <td>33.969868</td>\n",
       "    </tr>\n",
       "  </tbody>\n",
       "</table>\n",
       "</div>"
      ],
      "text/plain": [
       "            product_line  unit_price\n",
       "0        Breaking system   17.740522\n",
       "1      Electrical system   25.585130\n",
       "2                 Engine   60.091803\n",
       "3           Frame & body   42.832229\n",
       "4          Miscellaneous   22.810738\n",
       "5  Suspension & traction   33.969868"
      ]
     },
     "execution_count": 36,
     "metadata": {},
     "output_type": "execute_result"
    }
   ],
   "source": [
    "av_unit_price= motor.groupby('product_line').unit_price.mean().reset_index()\n",
    "av_unit_price"
   ]
  },
  {
   "cell_type": "code",
   "execution_count": 39,
   "id": "1f8f6039",
   "metadata": {},
   "outputs": [
    {
     "data": {
      "image/png": "[encoded data removed]",
      "text/plain": [
       "<Figure size 864x432 with 1 Axes>"
      ]
     },
     "metadata": {
      "needs_background": "light"
     },
     "output_type": "display_data"
    }
   ],
   "source": [
    "plt.figure(figsize=(12, 6))\n",
    "tp= sns.barplot(x='product_line', y= 'unit_price', data= av_unit_price)\n",
    "plt.title('Average Unit Price per Product line', fontweight= 'bold', fontsize= 18)\n",
    "plt.xlabel('Product Line',  fontweight= 'bold', fontsize= 16)\n",
    "plt.ylabel('Unit Price',  fontweight= 'bold', fontsize= 16);\n",
    "for i in tp.containers:\n",
    "    tp.bar_label(i)"
   ]
  },
  {
   "cell_type": "markdown",
   "id": "8704bd02",
   "metadata": {},
   "source": [
    " ### Question 3\n",
    " What is the average purchase value by client type?"
   ]
  },
  {
   "cell_type": "code",
   "execution_count": 40,
   "id": "10877c5a",
   "metadata": {
    "scrolled": true
   },
   "outputs": [
    {
     "data": {
      "text/html": [
       "<div>\n",
       "<style scoped>\n",
       "    .dataframe tbody tr th:only-of-type {\n",
       "        vertical-align: middle;\n",
       "    }\n",
       "\n",
       "    .dataframe tbody tr th {\n",
       "        vertical-align: top;\n",
       "    }\n",
       "\n",
       "    .dataframe thead th {\n",
       "        text-align: right;\n",
       "    }\n",
       "</style>\n",
       "<table border=\"1\" class=\"dataframe\">\n",
       "  <thead>\n",
       "    <tr style=\"text-align: right;\">\n",
       "      <th></th>\n",
       "      <th>client_type</th>\n",
       "      <th>total</th>\n",
       "    </tr>\n",
       "  </thead>\n",
       "  <tbody>\n",
       "    <tr>\n",
       "      <th>0</th>\n",
       "      <td>Retail</td>\n",
       "      <td>167.058929</td>\n",
       "    </tr>\n",
       "    <tr>\n",
       "      <th>1</th>\n",
       "      <td>Wholesale</td>\n",
       "      <td>709.521467</td>\n",
       "    </tr>\n",
       "  </tbody>\n",
       "</table>\n",
       "</div>"
      ],
      "text/plain": [
       "  client_type       total\n",
       "0      Retail  167.058929\n",
       "1   Wholesale  709.521467"
      ]
     },
     "execution_count": 40,
     "metadata": {},
     "output_type": "execute_result"
    }
   ],
   "source": [
    "av_purchase_value= motor.groupby('client_type').total.mean().reset_index()\n",
    "av_purchase_value"
   ]
  },
  {
   "cell_type": "code",
   "execution_count": 59,
   "id": "9c177d9e",
   "metadata": {},
   "outputs": [
    {
     "data": {
      "image/png": "[encoded data removed]",
      "text/plain": [
       "<Figure size 864x360 with 1 Axes>"
      ]
     },
     "metadata": {
      "needs_background": "light"
     },
     "output_type": "display_data"
    }
   ],
   "source": [
    "plt.figure(figsize=(12, 5))\n",
    "colors= ['red', 'green']\n",
    "plt.barh(av_purchase_value.client_type, av_purchase_value.total, color= colors )\n",
    "plt.title('Average Purchase Value per Client Type', fontweight= 'bold', fontsize= 18)\n",
    "plt.xlabel('Average Purchase',  fontweight= 'bold', fontsize= 16)\n",
    "plt.ylabel('Client Type',  fontweight= 'bold', fontsize= 16)\n",
    "plt.show()"
   ]
  },
  {
   "cell_type": "markdown",
   "id": "1e1944b7",
   "metadata": {},
   "source": [
    "### Question 4\n",
    "What is the total purchase value by product line?"
   ]
  },
  {
   "cell_type": "code",
   "execution_count": 46,
   "id": "582a57a2",
   "metadata": {},
   "outputs": [
    {
     "data": {
      "text/html": [
       "<div>\n",
       "<style scoped>\n",
       "    .dataframe tbody tr th:only-of-type {\n",
       "        vertical-align: middle;\n",
       "    }\n",
       "\n",
       "    .dataframe tbody tr th {\n",
       "        vertical-align: top;\n",
       "    }\n",
       "\n",
       "    .dataframe thead th {\n",
       "        text-align: right;\n",
       "    }\n",
       "</style>\n",
       "<table border=\"1\" class=\"dataframe\">\n",
       "  <thead>\n",
       "    <tr style=\"text-align: right;\">\n",
       "      <th></th>\n",
       "      <th>product_line</th>\n",
       "      <th>sum</th>\n",
       "    </tr>\n",
       "  </thead>\n",
       "  <tbody>\n",
       "    <tr>\n",
       "      <th>0</th>\n",
       "      <td>Breaking system</td>\n",
       "      <td>38350.15</td>\n",
       "    </tr>\n",
       "    <tr>\n",
       "      <th>1</th>\n",
       "      <td>Electrical system</td>\n",
       "      <td>43612.71</td>\n",
       "    </tr>\n",
       "    <tr>\n",
       "      <th>2</th>\n",
       "      <td>Engine</td>\n",
       "      <td>37945.38</td>\n",
       "    </tr>\n",
       "    <tr>\n",
       "      <th>3</th>\n",
       "      <td>Frame &amp; body</td>\n",
       "      <td>69024.73</td>\n",
       "    </tr>\n",
       "    <tr>\n",
       "      <th>4</th>\n",
       "      <td>Miscellaneous</td>\n",
       "      <td>27165.82</td>\n",
       "    </tr>\n",
       "    <tr>\n",
       "      <th>5</th>\n",
       "      <td>Suspension &amp; traction</td>\n",
       "      <td>73014.21</td>\n",
       "    </tr>\n",
       "  </tbody>\n",
       "</table>\n",
       "</div>"
      ],
      "text/plain": [
       "            product_line       sum\n",
       "0        Breaking system  38350.15\n",
       "1      Electrical system  43612.71\n",
       "2                 Engine  37945.38\n",
       "3           Frame & body  69024.73\n",
       "4          Miscellaneous  27165.82\n",
       "5  Suspension & traction  73014.21"
      ]
     },
     "execution_count": 46,
     "metadata": {},
     "output_type": "execute_result"
    }
   ],
   "source": [
    "total_purchase_value= motor.groupby('product_line').total.agg([sum]).reset_index()\n",
    "total_purchase_value"
   ]
  },
  {
   "cell_type": "code",
   "execution_count": 56,
   "id": "a7435ecc",
   "metadata": {
    "scrolled": false
   },
   "outputs": [
    {
     "data": {
      "image/png": "[encoded data removed]",
      "text/plain": [
       "<Figure size 1296x576 with 1 Axes>"
      ]
     },
     "metadata": {},
     "output_type": "display_data"
    }
   ],
   "source": [
    "plt.figure(figsize=(18, 8))\n",
    "explodes= [0,0,0,0,0,0.1]\n",
    "x= [38350.15, 43612.71, 37945.38, 69024.73, 27165.82, 73014.21]\n",
    "labels= 'Breaking system', 'Electrical system', 'Engine', 'Frame & body', 'Miscellaneous', 'Suspension & traction' \n",
    "\n",
    "plt.pie(x, explode= explodes, autopct= '%1.1f%%')\n",
    "plt.title('Total Purchase Value per Product line', fontweight= 'bold', fontsize= 18)\n",
    "plt.legend(labels, loc='lower right')\n",
    "plt.show()"
   ]
  },
  {
   "cell_type": "markdown",
   "id": "240f0551",
   "metadata": {},
   "source": [
    "### Question 6\n",
    "What is the total sales fo each warehouse?"
   ]
  },
  {
   "cell_type": "code",
   "execution_count": 74,
   "id": "391b860c",
   "metadata": {},
   "outputs": [
    {
     "data": {
      "text/html": [
       "<div>\n",
       "<style scoped>\n",
       "    .dataframe tbody tr th:only-of-type {\n",
       "        vertical-align: middle;\n",
       "    }\n",
       "\n",
       "    .dataframe tbody tr th {\n",
       "        vertical-align: top;\n",
       "    }\n",
       "\n",
       "    .dataframe thead th {\n",
       "        text-align: right;\n",
       "    }\n",
       "</style>\n",
       "<table border=\"1\" class=\"dataframe\">\n",
       "  <thead>\n",
       "    <tr style=\"text-align: right;\">\n",
       "      <th></th>\n",
       "      <th>warehouse</th>\n",
       "      <th>sum</th>\n",
       "    </tr>\n",
       "  </thead>\n",
       "  <tbody>\n",
       "    <tr>\n",
       "      <th>0</th>\n",
       "      <td>Central</td>\n",
       "      <td>141982.88</td>\n",
       "    </tr>\n",
       "    <tr>\n",
       "      <th>1</th>\n",
       "      <td>North</td>\n",
       "      <td>100203.63</td>\n",
       "    </tr>\n",
       "    <tr>\n",
       "      <th>2</th>\n",
       "      <td>West</td>\n",
       "      <td>46926.49</td>\n",
       "    </tr>\n",
       "  </tbody>\n",
       "</table>\n",
       "</div>"
      ],
      "text/plain": [
       "  warehouse        sum\n",
       "0   Central  141982.88\n",
       "1     North  100203.63\n",
       "2      West   46926.49"
      ]
     },
     "execution_count": 74,
     "metadata": {},
     "output_type": "execute_result"
    }
   ],
   "source": [
    "total_sales_warehouse= motor.groupby('warehouse').total.agg([sum]).reset_index()\n",
    "total_sales_warehouse"
   ]
  },
  {
   "cell_type": "code",
   "execution_count": 77,
   "id": "dd869845",
   "metadata": {},
   "outputs": [
    {
     "data": {
      "image/png": "[encoded data removed]",
      "text/plain": [
       "<Figure size 1296x576 with 1 Axes>"
      ]
     },
     "metadata": {},
     "output_type": "display_data"
    }
   ],
   "source": [
    "plt.figure(figsize=(18, 8))\n",
    "explodes= [0,0,0]\n",
    "x= [141982.88, 100203.63, 46926.49]\n",
    "labels= 'Central', 'North', 'West'\n",
    "\n",
    "plt.pie(x, explode= explodes, labels= labels, autopct= '%1.1f%%')\n",
    "plt.title('Total sales per Warehouse', fontweight= 'bold', fontsize= 18)\n",
    "plt.show()"
   ]
  },
  {
   "cell_type": "markdown",
   "id": "5a15d33a",
   "metadata": {},
   "source": [
    "### Summary of findings:\n",
    "- Although credit card was the most fequently used payment method, a larger sum was paid through the transfer method.\n",
    "- Payment through cash method accounted for only 6.64% of total ammoout paid.\n",
    "- Products from the engine product line had the highest average unit price (60.09) while products from Breaking system had the lowest unit price (17.74).\n",
    "- The avaerage purchase value of wholesale clients was far greater than that of retail clients.\n",
    "- The total purchase value of wholesale clients was also greater than that of retail clients even though sales by rtail clients were more frequent.\n",
    "- Suspension & traction product line had the highest purchase value (25.3%) while Miscellaneous had the lowest (9.4%).\n",
    "- The Central warehouse is the most valueable warehouse as it had the highest total sales (49.1%) which is almost half of total slaes from all three warehouses. West warehouse on the othe hand had the lowest total sales (16.2%)."
   ]
  },
  {
   "cell_type": "code",
   "execution_count": null,
   "id": "565863b3",
   "metadata": {},
   "outputs": [],
   "source": []
  }
 ],
 "metadata": {
  "kernelspec": {
   "display_name": "Python 3 (ipykernel)",
   "language": "python",
   "name": "python3"
  },
  "language_info": {
   "codemirror_mode": {
    "name": "ipython",
    "version": 3
   },
   "file_extension": ".py",
   "mimetype": "text/x-python",
   "name": "python",
   "nbconvert_exporter": "python",
   "pygments_lexer": "ipython3",
   "version": "3.9.12"
  }
 },
 "nbformat": 4,
 "nbformat_minor": 5
}
